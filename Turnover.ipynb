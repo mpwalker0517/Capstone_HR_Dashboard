{
 "cells": [
  {
   "cell_type": "markdown",
   "id": "b9cb73fd-636b-4500-8ff0-12d1cb89a321",
   "metadata": {},
   "source": [
    "# *The purpose of this notebook is to apply change to the Turnover Report received from ADP and use the finalized data to create a Tableau Dashboard*"
   ]
  },
  {
   "cell_type": "markdown",
   "id": "7932a007-e551-494a-9b0d-00b8646b6155",
   "metadata": {},
   "source": [
    "## Pulling in all needed dbs:\n",
    "\n",
    "<p>*Connect to virtual environment: my_env\\Scripts\\activate.bat</p>"
   ]
  },
  {
   "cell_type": "code",
   "execution_count": 1,
   "id": "98963189-27c8-436c-9fb0-289272579377",
   "metadata": {},
   "outputs": [],
   "source": [
    "import pandas as pd \n",
    "import numpy as np\n",
    "from faker import Faker"
   ]
  },
  {
   "cell_type": "markdown",
   "id": "2b11476f-23d9-4e27-8963-fe7ab536a221",
   "metadata": {},
   "source": [
    "## Randomizing names for privacy"
   ]
  },
  {
   "cell_type": "code",
   "execution_count": 2,
   "id": "8e70ed60-b9c2-426e-a7c4-2b42be7e348a",
   "metadata": {},
   "outputs": [
    {
     "name": "stdout",
     "output_type": "stream",
     "text": [
      "    Employee ID            Employee             Coach        Role  \\\n",
      "71          953     Barry Hernandez  Jennifer Kephart       Tech    \n",
      "72          957          Gina Downs     Morgan Walker  Scripting    \n",
      "73          960   Geoffrey Hamilton      Don Paquette    Finance    \n",
      "74          971      Kimberly Ortiz     Morgan Walker  Scripting    \n",
      "75          986  Mr. Richard Murphy     Morgan Walker       Tech    \n",
      "\n",
      "         Department Date of Hire Date of Termination Turnover Risk  \\\n",
      "71  Product Support    6/19/2023            9/1/2023      Low Risk   \n",
      "72  Product Support    7/10/2023           9/15/2023      Low Risk   \n",
      "73  Product Support    7/24/2023           8/14/2023     Some Risk   \n",
      "74  Product Support    8/14/2023          10/17/2023      Low Risk   \n",
      "75  Product Support    9/11/2023           9/29/2023      Low Risk   \n",
      "\n",
      "   Termination  QNH Termination  \n",
      "71         NaN            -30.0  \n",
      "72         NaN            -30.0  \n",
      "73         NaN            -30.0  \n",
      "74   Voluntary            -30.0  \n",
      "75         NaN            -30.0  \n"
     ]
    }
   ],
   "source": [
    "file_path = r\"turnover_metrics_11.csv\"\n",
    "\n",
    "# Read the CSV file into a DataFrame\n",
    "turn = pd.read_csv(file_path)\n",
    "\n",
    "# Randomize the names in the Employee column\n",
    "fake = Faker()\n",
    "turn['Employee'] = [fake.name() for _ in range(len(turn))]\n",
    "\n",
    "\n",
    "# Display the DataFrame\n",
    "print(turn.tail())"
   ]
  },
  {
   "cell_type": "markdown",
   "id": "6e414cd5-1b83-4e85-81f2-250ab65527e4",
   "metadata": {},
   "source": [
    "## Adding columns for Length of Service and Time Buckets"
   ]
  },
  {
   "cell_type": "code",
   "execution_count": 3,
   "id": "1a1afc84-0565-44bf-b35d-6b06589baf1d",
   "metadata": {},
   "outputs": [
    {
     "name": "stdout",
     "output_type": "stream",
     "text": [
      "   Employee ID         Employee          Coach              Role  \\\n",
      "0           58  Tina Montgomery   Don Paquette     ProServWebD/D   \n",
      "1          220   Dr. Amy Dalton   Don Paquette      Social Media   \n",
      "2          253      Mark Miller  Morgan Walker    ProServWebD/D    \n",
      "3          328   Marilyn Levine   Don Paquette  CaseAnalysisMgr    \n",
      "4          369    Joseph Harris            NaN    LrngMgmtCoord    \n",
      "\n",
      "     Department Date of Hire Date of Termination Turnover Risk Termination  \\\n",
      "0  Pro Services   2019-04-22          2023-07-21      Low Risk         NaN   \n",
      "1     Marketing   2019-12-02          2023-09-29      Low Risk         NaN   \n",
      "2  Pro Services   2018-12-17          2023-08-31      Low Risk         NaN   \n",
      "3  Bus Analysis   2015-06-08          2023-05-12      Low Risk         NaN   \n",
      "4      Training   2015-03-30          2023-02-24      Low Risk   Voluntary   \n",
      "\n",
      "   QNH Termination  Months of Employment    Time Bucket  \n",
      "0              NaN                    50   48-60 months  \n",
      "1              NaN                    45   36-48 months  \n",
      "2              NaN                    56   48-60 months  \n",
      "3              NaN                    95  60-inf months  \n",
      "4              NaN                    94  60-inf months  \n"
     ]
    }
   ],
   "source": [
    "import datetime as dt\n",
    "\n",
    "# Convert date columns to datetime objects\n",
    "turn['Date of Hire'] = pd.to_datetime(turn['Date of Hire'])\n",
    "turn['Date of Termination'] = pd.to_datetime(turn['Date of Termination'])\n",
    "\n",
    "# Calculate length of service in months\n",
    "turn['Months of Employment'] = ((turn['Date of Termination'] - turn['Date of Hire']) / pd.Timedelta(days=30.44)).astype(int)\n",
    "\n",
    "# Define time buckets\n",
    "time_buckets = [0, 6, 12,24,36,48,60,float('inf')]\n",
    "\n",
    "# Add a new column for time buckets\n",
    "turn['Time Bucket'] = pd.cut(turn['Months of Employment'], bins=time_buckets, labels=[f'{start}-{end} months' for start, end in zip(time_buckets[:-1], time_buckets[1:])])\n",
    "\n",
    "# Display the updated new column\n",
    "print(turn.head())"
   ]
  },
  {
   "cell_type": "markdown",
   "id": "7c5983a8-8420-47c7-b64d-72922d757cc4",
   "metadata": {},
   "source": [
    "## Saving file to new csv to utilize in Tableau"
   ]
  },
  {
   "cell_type": "code",
   "execution_count": 4,
   "id": "9ef56c55-e69b-442a-9b6e-405d48212033",
   "metadata": {},
   "outputs": [],
   "source": [
    "# Save the DataFrame to a new CSV file\n",
    "output_file_path = 'turnover_metrics.csv'\n",
    "turn.to_csv(output_file_path, index=False)"
   ]
  },
  {
   "cell_type": "markdown",
   "id": "53d2b3b4-a227-4a1b-bd6e-73713b5c47f2",
   "metadata": {},
   "source": [
    "## **Created hr_dash_tableau to visualize data**\n",
    "<p>*Can also be accessed at this link <a href=\"https://public.tableau.com/views/hr_dash_tableau/EmployeeTurnoverDashboard?:language=en-US&publish=yes&:display_count=n&:origin=viz_share_link\">here</a>*</p>\n",
    "<p><div class='tableauPlaceholder' id='viz1701219088133' style='position: relative'><noscript><a href='#'><img alt='Employee Turnover DashboardEmployee turnover is the measure ment of the number of employees who leave an organization within a specified time period. This dashboard illustrates the number of employees who have left LCS YTD. ' src='https:&#47;&#47;public.tableau.com&#47;static&#47;images&#47;hr&#47;hr_dash_tableau&#47;EmployeeTurnoverDashboard&#47;1_rss.png' style='border: none' /></a></noscript><object class='tableauViz'  style='display:none;'><param name='host_url' value='https%3A%2F%2Fpublic.tableau.com%2F' /> <param name='embed_code_version' value='3' /> <param name='site_root' value='' /><param name='name' value='hr_dash_tableau&#47;EmployeeTurnoverDashboard' /><param name='tabs' value='no' /><param name='toolbar' value='yes' /><param name='static_image' value='https:&#47;&#47;public.tableau.com&#47;static&#47;images&#47;hr&#47;hr_dash_tableau&#47;EmployeeTurnoverDashboard&#47;1.png' /> <param name='animate_transition' value='yes' /><param name='display_static_image' value='yes' /><param name='display_spinner' value='yes' /><param name='display_overlay' value='yes' /><param name='display_count' value='yes' /><param name='language' value='en-US' /><param name='filter' value='publish=yes' /></object></div>                <script type='text/javascript'>                    var divElement = document.getElementById('viz1701219088133');                    var vizElement = divElement.getElementsByTagName('object')[0];                    if ( divElement.offsetWidth > 800 ) { vizElement.style.width='1000px';vizElement.style.height='827px';} else if ( divElement.offsetWidth > 500 ) { vizElement.style.width='1000px';vizElement.style.height='827px';} else { vizElement.style.width='100%';vizElement.style.height='1877px';}                     var scriptElement = document.createElement('script');                    scriptElement.src = 'https://public.tableau.com/javascripts/api/viz_v1.js';                    vizElement.parentNode.insertBefore(scriptElement, vizElement);                </script></p>"
   ]
  }
 ],
 "metadata": {
  "kernelspec": {
   "display_name": "Python 3 (ipykernel)",
   "language": "python",
   "name": "python3"
  },
  "language_info": {
   "codemirror_mode": {
    "name": "ipython",
    "version": 3
   },
   "file_extension": ".py",
   "mimetype": "text/x-python",
   "name": "python",
   "nbconvert_exporter": "python",
   "pygments_lexer": "ipython3",
   "version": "3.11.6"
  }
 },
 "nbformat": 4,
 "nbformat_minor": 5
}
