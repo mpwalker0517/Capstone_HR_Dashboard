{
 "cells": [
  {
   "cell_type": "markdown",
   "id": "6049994d-f3fc-477d-9ddb-866b92f04fad",
   "metadata": {},
   "source": [
    "# The purpose of this project is to showcase the measureables of our team, including certification scores, call coaching stats, and quality of new hire stats. All statistics are stored in a secure SQL database that I can not grant access to for testing the final project, but I utilized SQL to pull info from the database and created Excel files from those queries to utilize in Tableau. Also utilized Python to make adjustments to Excel files for security purposes. To test, you can download the original excel file (with employee names already adjusted) here: "
   ]
  },
  {
   "cell_type": "markdown",
   "id": "7c74d47f-507c-40ea-aabe-5a482c4fff47",
   "metadata": {},
   "source": [
    "## First step is to pull the data from SQL database. First pulled certification scores:"
   ]
  },
  {
   "cell_type": "code",
   "execution_count": null,
   "id": "b3022ca6-aae8-4b07-8b53-f9fc31f4887c",
   "metadata": {},
   "outputs": [],
   "source": [
    "SELECT `contacts`.`ContactName` as 'Employee', `userdefinedfields`.`UserDefinedFieldID` as 'Product',`userdefinedfields`.`Name` as 'Assessment',`userdefinedvalues`.`UDFValue` as 'Score and Date'\n",
    "FROM `mwalkerlcs-morgan_rm12`.`userdefinedfields`\n",
    "INNER JOIN `mwalkerlcs-morgan_rm12`.`userdefinedvalues` ON `userdefinedfields`.`UserDefinedFieldID`=`userdefinedvalues`.`UserDefinedFieldID`\n",
    "INNER JOIN `mwalkerlcs-morgan_rm12`.`contacts` ON `contacts`.`EntityKeyID`=`userdefinedvalues`.`EntityKeyID`\n",
    "INNER JOIN `mwalkerlcs-morgan_rm12`.`leases` ON `contacts`.`EntityKeyID`=`leases`.`CustomerID`\n",
    "WHERE `userdefinedfields`.`EntityTypeID`=1 AND `leases`.`MoveOutDate` IS NULL AND `userdefinedfields`.`UserDefinedFieldID` = 76;"
   ]
  },
  {
   "cell_type": "markdown",
   "id": "d77f16d7-c016-417e-b9bc-e3e5d64f8723",
   "metadata": {},
   "source": [
    "### Next, pulled Call Coaching data:"
   ]
  },
  {
   "cell_type": "code",
   "execution_count": null,
   "id": "db184458-d316-421d-8229-72185c11d2c7",
   "metadata": {},
   "outputs": [],
   "source": [
    "SELECT `contacts`.`ContactName` as 'Employee', `userdefinedfields`.`UserDefinedFieldID` as 'Queue',`userdefinedfields`.`Name` as 'Quarter',`userdefinedvalues`.`UDFValue` as 'Score',`userdefinedvalues`.`EntityKeyID`\n",
    "FROM `mwalkerlcs-morgan_rm12`.`userdefinedfields`\n",
    "INNER JOIN `mwalkerlcs-morgan_rm12`.`userdefinedvalues` ON `userdefinedfields`.`UserDefinedFieldID`=`userdefinedvalues`.`UserDefinedFieldID`\n",
    "INNER JOIN `mwalkerlcs-morgan_rm12`.`contacts` ON `contacts`.`EntityKeyID`=`userdefinedvalues`.`EntityKeyID`\n",
    "INNER JOIN `mwalkerlcs-morgan_rm12`.`leases` ON `contacts`.`EntityKeyID`=`leases`.`CustomerID`\n",
    "WHERE `userdefinedfields`.`EntityTypeID`=1 AND `leases`.`MoveOutDate` IS NULL AND `userdefinedfields`.`UserDefinedFieldID`= 10;"
   ]
  },
  {
   "cell_type": "markdown",
   "id": "5fcb3905-2130-4ab6-9e46-8b7f3ce4641f",
   "metadata": {},
   "source": [
    "### Finally, pulled Quality of New Hire metrics"
   ]
  },
  {
   "cell_type": "code",
   "execution_count": null,
   "id": "ae4bc11d-aeab-47e6-8a14-c30220c28814",
   "metadata": {},
   "outputs": [],
   "source": [
    "##SELECT `contacts`.`ContactName` as 'Employee', `userdefinedfields`.`UserDefinedFieldID` as 'Queue',`userdefinedfields`.`Name` as 'Quarter',`userdefinedvalues`.`UDFValue` as 'Score',`userdefinedvalues`.`EntityKeyID`\n",
    "FROM `mwalkerlcs-morgan_rm12`.`userdefinedfields`\n",
    "INNER JOIN `mwalkerlcs-morgan_rm12`.`userdefinedvalues` ON `userdefinedfields`.`UserDefinedFieldID`=`userdefinedvalues`.`UserDefinedFieldID`\n",
    "INNER JOIN `mwalkerlcs-morgan_rm12`.`contacts` ON `contacts`.`EntityKeyID`=`userdefinedvalues`.`EntityKeyID`\n",
    "INNER JOIN `mwalkerlcs-morgan_rm12`.`leases` ON `contacts`.`EntityKeyID`=`leases`.`CustomerID`\n",
    "WHERE `userdefinedfields`.`EntityTypeID`=1 AND `leases`.`MoveOutDate` IS NULL AND `userdefinedfields`.`UserDefinedFieldID`= 10;"
   ]
  },
  {
   "cell_type": "markdown",
   "id": "5163a878-2de0-447a-bb3c-2707dadf16fb",
   "metadata": {},
   "source": [
    "## Next step is to clean up the files. For the certification scores files, I need to first randomize the names in the first column for security purposes:"
   ]
  },
  {
   "cell_type": "code",
   "execution_count": null,
   "id": "03d24ad7-9294-4f96-a7e5-dfaba10d06f7",
   "metadata": {},
   "outputs": [],
   "source": [
    "#Count rows from CSV\n",
    "import csv\n",
    "\n",
    "csv_file_path = (r\"C:\\Users\\mwalker\\Desktop\\CS_HR_DASH\\Capstone_HR_Dashboard\\All Certs_Clean.csv\")\n",
    "\n",
    "def count_csv_rows(file_path):\n",
    "    try:\n",
    "        with open(file_path, 'r', newline='') as csv_file:\n",
    "            reader = csv.reader(csv_file)\n",
    "            # Use the len function to count the number of rows in the CSV\n",
    "            row_count = len(list(reader))\n",
    "            return row_count\n",
    "    except FileNotFoundError:\n",
    "        return -1  # File not found error\n",
    "    except Exception as e:\n",
    "        print(f\"An error occurred: {str(e)}\")\n",
    "        return -1  # Other errors\n",
    "\n",
    "\n",
    "row_count = count_csv_rows(csv_file_path)\n",
    "\n",
    "\n",
    "#Create fake names\n",
    "from faker import Faker\n",
    "fake = Faker()\n",
    "\n",
    "\n",
    "for i in range(0, row_count):\n",
    "    New_Data = print(fake.name())\n",
    "\n",
    "\n",
    "#Update names with fake names\n",
    "input_csv_file = (r\"C:\\Users\\mwalker\\Desktop\\CS_HR_DASH\\Capstone_HR_Dashboard\\All Certs_Clean.csv\")\n",
    "output_csv_file = (r\"C:\\Users\\mwalker\\Desktop\\CS_HR_DASH\\Capstone_HR_Dashboard\\All Certs_New Names.csv\")\n",
    "replacement_data = New_Data\n",
    "\n",
    "\n",
    "def update_first_column(input_file, output_file, replacement_data):\n",
    "  try:\n",
    "      with open(input_file, 'r', newline='') as csv_input:\n",
    "          with open(output_file, 'w', newline='') as csv_output:\n",
    "              reader = csv.reader(csv_input)\n",
    "              writer = csv.writer(csv_output)\n",
    "              for row in reader:\n",
    "                  if row:  # Check if the row is not empty\n",
    "                      # Replace the data in the first column\n",
    "                      row[0] = replacement_data\n",
    "                  writer.writerow(row)\n",
    "      print(f\"Data in the first column of '{input_file}' updated and saved to '{output_file}'.\")\n",
    "  except FileNotFoundError:\n",
    "      print(f\"File not found: '{input_file}'\")\n",
    "  except Exception as e:\n",
    "      print(f\"An error occurred: {str(e)}\")\n",
    "\n",
    "# Final:\n",
    "update_first_column(input_csv_file, output_csv_file, replacement_data)"
   ]
  },
  {
   "cell_type": "markdown",
   "id": "d2df1057-50e8-4a5d-90e9-f4bbdd69cd89",
   "metadata": {},
   "source": [
    "##"
   ]
  }
 ],
 "metadata": {
  "kernelspec": {
   "display_name": "Python 3 (ipykernel)",
   "language": "python",
   "name": "python3"
  },
  "language_info": {
   "codemirror_mode": {
    "name": "ipython",
    "version": 3
   },
   "file_extension": ".py",
   "mimetype": "text/x-python",
   "name": "python",
   "nbconvert_exporter": "python",
   "pygments_lexer": "ipython3",
   "version": "3.11.6"
  }
 },
 "nbformat": 4,
 "nbformat_minor": 5
}
